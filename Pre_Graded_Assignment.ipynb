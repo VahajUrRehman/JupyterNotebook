{
 "cells": [
  {
   "cell_type": "markdown",
   "id": "70fd2e40-3fa4-496f-aad0-ce3817809a68",
   "metadata": {},
   "source": [
    "<h1>My Jupyter Notebook On IBM Watson</h1>"
   ]
  },
  {
   "cell_type": "markdown",
   "id": "e46211d5-fbc8-49f9-86fa-a1ac30d3c7ea",
   "metadata": {},
   "source": [
    "<strong>Muhammad Vahaj Ur Rehman</strong>\n",
    "<p>Hardwork Defeats Talent, If Talent Does,nt Works Hard</p>"
   ]
  },
  {
   "cell_type": "markdown",
   "id": "b025b764-2424-4bd0-8335-83af3574e4c8",
   "metadata": {},
   "source": [
    "<em>I Am Interested In Data Sciences Because It Is A facinating Subject And Field<br>\n",
    "To Visualize A Tremendous Amount Of Data Is Fun</em>"
   ]
  },
  {
   "cell_type": "markdown",
   "id": "9f061fcf-5edd-49a3-9f6b-c224c0598322",
   "metadata": {},
   "source": [
    "<h3>The Code Is Adding Two Numbers And Storing It In A variable<br>\n",
    "And Then It Will Print The Output In The Cell.\n",
    "</h3>"
   ]
  },
  {
   "cell_type": "code",
   "execution_count": 2,
   "id": "3b0b3290-406d-4882-bedd-22cc950d484f",
   "metadata": {},
   "outputs": [
    {
     "name": "stdout",
     "output_type": "stream",
     "text": [
      "4\n"
     ]
    }
   ],
   "source": [
    "sum =2+2\n",
    "print(sum)"
   ]
  },
  {
   "cell_type": "markdown",
   "id": "5468b351-3270-45a5-9b66-2b0d438ecb63",
   "metadata": {},
   "source": [
    "<a href=\"https://github.com/\">Github</a>\n",
    "\n",
    "<img src=\"https://1000logos.net/wp-content/uploads/2021/05/GitHub-logo.png\" width=\"200px\" height = \"200px\" >\n",
    "\n",
    "<h4> List Of Version Control Systems</h4>\n",
    "\n",
    "<ul>\n",
    "    <li> Gitlab </li>\n",
    "    <li> BitBucket </li>\n",
    "    <li> GitHub </li>\n",
    "    <li> Gitlab </li>\n",
    "    \n",
    "    \n",
    "    \n",
    "</ul>"
   ]
  },
  {
   "cell_type": "code",
   "execution_count": null,
   "id": "af277079-57c1-4912-b3a5-fe11f9ff19a3",
   "metadata": {},
   "outputs": [],
   "source": []
  }
 ],
 "metadata": {
  "kernelspec": {
   "display_name": "Python",
   "language": "python",
   "name": "conda-env-python-py"
  },
  "language_info": {
   "codemirror_mode": {
    "name": "ipython",
    "version": 3
   },
   "file_extension": ".py",
   "mimetype": "text/x-python",
   "name": "python",
   "nbconvert_exporter": "python",
   "pygments_lexer": "ipython3",
   "version": "3.7.12"
  }
 },
 "nbformat": 4,
 "nbformat_minor": 5
}
